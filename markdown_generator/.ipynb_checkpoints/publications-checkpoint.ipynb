{
 "cells": [
  {
   "cell_type": "markdown",
   "metadata": {},
   "source": [
    "# Publications markdown generator for academicpages\n",
    "\n",
    "Takes a TSV of publications with metadata and converts them for use with [academicpages.github.io](academicpages.github.io). This is an interactive Jupyter notebook ([see more info here](http://jupyter-notebook-beginner-guide.readthedocs.io/en/latest/what_is_jupyter.html)). The core python code is also in `publications.py`. Run either from the `markdown_generator` folder after replacing `publications.tsv` with one containing your data.\n",
    "\n",
    "TODO: Make this work with BibTex and other databases of citations, rather than Stuart's non-standard TSV format and citation style.\n"
   ]
  },
  {
   "cell_type": "markdown",
   "metadata": {},
   "source": [
    "## Data format\n",
    "\n",
    "The TSV needs to have the following columns: pub_date, title, venue, excerpt, citation, site_url, and paper_url, with a header at the top. \n",
    "\n",
    "- `excerpt` and `paper_url` can be blank, but the others must have values. \n",
    "- `pub_date` must be formatted as YYYY-MM-DD.\n",
    "- `url_slug` will be the descriptive part of the .md file and the permalink URL for the page about the paper. The .md file will be `YYYY-MM-DD-[url_slug].md` and the permalink will be `https://[yourdomain]/publications/YYYY-MM-DD-[url_slug]`\n",
    "\n",
    "This is how the raw file looks (it doesn't look pretty, use a spreadsheet or other program to edit and create)."
   ]
  },
  {
   "cell_type": "code",
   "execution_count": 5,
   "metadata": {},
   "outputs": [
    {
     "name": "stdout",
     "output_type": "stream",
     "text": [
      "pub_date\ttitle\tvenue\texcerpt\tcitation\turl_slug\tpaper_url\r\n",
      "2017-01-01\tSpatial Projection of Multiple Climate Variables Using Hierarchical Multitask Learning\tAAAI\tThis paper proposes a new Hierarchical Multitask Learning framework for the joint prediction of multiple climate variables. Each task in this multitask learning set up is actually another multitask learning problem.\tAR Gonçalves, A Banerjee, FJ Von Zuben (2017). \"Spatial Projection of Multiple Climate Variables Using Hierarchical Multitask Learning.\" <i>AAAI'17</i>\tpaper-hmtl-aaai17\thttp://www.aaai.org/ocs/index.php/AAAI/AAAI17/paper/download/15018/14060\r\n",
      "2016-01-01\tMulti-task sparse structure learning with gaussian copula models\tJMLR\tThis paper presents a novel family of models for MTL, applicable to regression and classification problems, capable of learning the structure of tasks relationship via Copula distributions.\tAR Gonçalves, FJ Von Zuben (2016) \"Multi-task sparse structure learning with gaussian copula models\" <i> The Journal of Machine Learning Research</i>\tpaper-mssl-cop\thttp://www.jmlr.org/papers/volume17/15-215/15-215.pdf\r\n",
      "2018-06-01\tModeling Alzheimer's disease cognitive scores using multi-task sparse group lasso\tComputerized Medical Imaging and Graphics\tWe consider the problem of simultaneously predicting several different cognitive scores associated with categorizing subjects as normal, mild cognitive impairment (MCI), or Alzheimer's disease (AD) in a multi-task learning framework using features extracted from brain images obtained from ADNI (Alzheimer's Disease Neuroimaging Initiative)\tX Liu, AR Goncalves, P Cao, D Zhao, A Banerjee (2018) \"Modeling Alzheimer's disease cognitive scores using multi-task sparse group lasso\" <i>Computerized Medical Imaging and Graphics</i>\tpaper-group-lasso \thttps://www.sciencedirect.com/science/article/pii/S0895611117301076\r\n",
      "2017-09-01 \tOn the generalization of fused systems in voice presentation attack detection\t16th International Conference of the Biometrics Special Interest Group\tThis paper describes presentation attack detection systems developed for the Automatic Speaker Verification Spoofing and Countermeasures Challenge (ASVspoof 2017). The submitted systems, using calibration and score fusion techniques, combine different sub-systems (up to 18), which are based on eight state of the art features and rely on Gaussian mixture models and feed-forward neural network classifiers. \tAR Goncalves, P Korshunov, RPV Violato, FO Simoes, S Marcel \"On the generalization of fused systems in voice presentation attack detection\" \t<i>16th International Conference of the Biometrics Special Interest Group</i>\tpaper-asvspoof\thttps://ieeexplore.ieee.org/document/8053516/\r\n"
     ]
    }
   ],
   "source": [
    "!cat publications.tsv"
   ]
  },
  {
   "cell_type": "markdown",
   "metadata": {},
   "source": [
    "## Import pandas\n",
    "\n",
    "We are using the very handy pandas library for dataframes."
   ]
  },
  {
   "cell_type": "code",
   "execution_count": 6,
   "metadata": {},
   "outputs": [],
   "source": [
    "import pandas as pd"
   ]
  },
  {
   "cell_type": "markdown",
   "metadata": {},
   "source": [
    "## Import TSV\n",
    "\n",
    "Pandas makes this easy with the read_csv function. We are using a TSV, so we specify the separator as a tab, or `\\t`.\n",
    "\n",
    "I found it important to put this data in a tab-separated values format, because there are a lot of commas in this kind of data and comma-separated values can get messed up. However, you can modify the import statement, as pandas also has read_excel(), read_json(), and others."
   ]
  },
  {
   "cell_type": "code",
   "execution_count": 21,
   "metadata": {},
   "outputs": [
    {
     "data": {
      "text/html": [
       "<div>\n",
       "<style scoped>\n",
       "    .dataframe tbody tr th:only-of-type {\n",
       "        vertical-align: middle;\n",
       "    }\n",
       "\n",
       "    .dataframe tbody tr th {\n",
       "        vertical-align: top;\n",
       "    }\n",
       "\n",
       "    .dataframe thead th {\n",
       "        text-align: right;\n",
       "    }\n",
       "</style>\n",
       "<table border=\"1\" class=\"dataframe\">\n",
       "  <thead>\n",
       "    <tr style=\"text-align: right;\">\n",
       "      <th></th>\n",
       "      <th>pub_date</th>\n",
       "      <th>title</th>\n",
       "      <th>venue</th>\n",
       "      <th>excerpt</th>\n",
       "      <th>citation</th>\n",
       "      <th>url_slug</th>\n",
       "      <th>paper_url</th>\n",
       "    </tr>\n",
       "  </thead>\n",
       "  <tbody>\n",
       "    <tr>\n",
       "      <th>0</th>\n",
       "      <td>2017-01-01</td>\n",
       "      <td>Spatial Projection of Multiple Climate Variabl...</td>\n",
       "      <td>AAAI'17</td>\n",
       "      <td>This paper proposes a new Hierarchical Multita...</td>\n",
       "      <td>AR Gonçalves, A Banerjee, FJ Von Zuben (2017)....</td>\n",
       "      <td>paper-hmtl-aaai17</td>\n",
       "      <td>http://www.aaai.org/ocs/index.php/AAAI/AAAI17/...</td>\n",
       "    </tr>\n",
       "    <tr>\n",
       "      <th>1</th>\n",
       "      <td>2016-01-01</td>\n",
       "      <td>Multi-task sparse structure learning with gaus...</td>\n",
       "      <td>JMLR</td>\n",
       "      <td>This paper presents a novel family of models f...</td>\n",
       "      <td>AR Gonçalves, FJ Von Zuben (2016) \"Multi-task ...</td>\n",
       "      <td>paper-mssl-cop</td>\n",
       "      <td>http://www.jmlr.org/papers/volume17/15-215/15-...</td>\n",
       "    </tr>\n",
       "    <tr>\n",
       "      <th>2</th>\n",
       "      <td>2018-06-01</td>\n",
       "      <td>Modeling Alzheimer's disease cognitive scores ...</td>\n",
       "      <td>Computerized Medical Imaging and Graphics</td>\n",
       "      <td>We consider the problem of simultaneously pred...</td>\n",
       "      <td>X Liu, AR Goncalves, P Cao, D Zhao, A Banerjee...</td>\n",
       "      <td>paper-group-lasso</td>\n",
       "      <td>https://www.sciencedirect.com/science/article/...</td>\n",
       "    </tr>\n",
       "    <tr>\n",
       "      <th>3</th>\n",
       "      <td>2017-09-01</td>\n",
       "      <td>On the generalization of fused systems in voi...</td>\n",
       "      <td>16th International Conference of the Biometric...</td>\n",
       "      <td>This paper describes presentation attack detec...</td>\n",
       "      <td>AR Goncalves, P Korshunov, RPV Violato, FO Sim...</td>\n",
       "      <td>paper-asvspoof</td>\n",
       "      <td>https://ieeexplore.ieee.org/document/8053516/</td>\n",
       "    </tr>\n",
       "    <tr>\n",
       "      <th>4</th>\n",
       "      <td>2017-08-01</td>\n",
       "      <td>Structured Estimation in High Dimensions and ...</td>\n",
       "      <td>Large-Scale Machine Learning in the Earth Scie...</td>\n",
       "      <td>We discuss structured sparse regression and m...</td>\n",
       "      <td>S Chatterjee, V Sivakumar, AR Gonçalves, A Ban...</td>\n",
       "      <td>paper-book-chapter</td>\n",
       "      <td>https://www.taylorfrancis.com/books/e/97814987...</td>\n",
       "    </tr>\n",
       "    <tr>\n",
       "      <th>5</th>\n",
       "      <td>2015-06-27</td>\n",
       "      <td>Multi-Label Structure Learning with Ising Mode...</td>\n",
       "      <td>IJCAI'15</td>\n",
       "      <td>Built on recent advances in structure learnin...</td>\n",
       "      <td>AR Gonçalves, FJ Von Zuben, A Banerjee (2015) ...</td>\n",
       "      <td>paper-ijcai-2015</td>\n",
       "      <td>http://www.aaai.org/ocs/index.php/IJCAI/IJCAI1...</td>\n",
       "    </tr>\n",
       "    <tr>\n",
       "      <th>6</th>\n",
       "      <td>2014-11-3</td>\n",
       "      <td>Multi-task Sparse Structure Learning</td>\n",
       "      <td>CIKM'14</td>\n",
       "      <td>In this paper, we present a novel family of mo...</td>\n",
       "      <td>AR Gonçalves, P Das, S Chatterjee, V Sivakumar...</td>\n",
       "      <td>paper-cikm-2014</td>\n",
       "      <td>https://dl.acm.org/citation.cfm?id=2662091</td>\n",
       "    </tr>\n",
       "  </tbody>\n",
       "</table>\n",
       "</div>"
      ],
      "text/plain": [
       "      pub_date                                              title  \\\n",
       "0   2017-01-01  Spatial Projection of Multiple Climate Variabl...   \n",
       "1   2016-01-01  Multi-task sparse structure learning with gaus...   \n",
       "2   2018-06-01  Modeling Alzheimer's disease cognitive scores ...   \n",
       "3  2017-09-01    On the generalization of fused systems in voi...   \n",
       "4  2017-08-01    Structured Estimation in High Dimensions and ...   \n",
       "5  2015-06-27   Multi-Label Structure Learning with Ising Mode...   \n",
       "6   2014-11-3               Multi-task Sparse Structure Learning    \n",
       "\n",
       "                                               venue  \\\n",
       "0                                            AAAI'17   \n",
       "1                                               JMLR   \n",
       "2          Computerized Medical Imaging and Graphics   \n",
       "3  16th International Conference of the Biometric...   \n",
       "4  Large-Scale Machine Learning in the Earth Scie...   \n",
       "5                                           IJCAI'15   \n",
       "6                                           CIKM'14    \n",
       "\n",
       "                                             excerpt  \\\n",
       "0  This paper proposes a new Hierarchical Multita...   \n",
       "1  This paper presents a novel family of models f...   \n",
       "2  We consider the problem of simultaneously pred...   \n",
       "3  This paper describes presentation attack detec...   \n",
       "4   We discuss structured sparse regression and m...   \n",
       "5   Built on recent advances in structure learnin...   \n",
       "6  In this paper, we present a novel family of mo...   \n",
       "\n",
       "                                            citation              url_slug  \\\n",
       "0  AR Gonçalves, A Banerjee, FJ Von Zuben (2017)....     paper-hmtl-aaai17   \n",
       "1  AR Gonçalves, FJ Von Zuben (2016) \"Multi-task ...        paper-mssl-cop   \n",
       "2  X Liu, AR Goncalves, P Cao, D Zhao, A Banerjee...    paper-group-lasso    \n",
       "3  AR Goncalves, P Korshunov, RPV Violato, FO Sim...        paper-asvspoof   \n",
       "4  S Chatterjee, V Sivakumar, AR Gonçalves, A Ban...  paper-book-chapter     \n",
       "5  AR Gonçalves, FJ Von Zuben, A Banerjee (2015) ...     paper-ijcai-2015    \n",
       "6  AR Gonçalves, P Das, S Chatterjee, V Sivakumar...      paper-cikm-2014    \n",
       "\n",
       "                                           paper_url  \n",
       "0  http://www.aaai.org/ocs/index.php/AAAI/AAAI17/...  \n",
       "1  http://www.jmlr.org/papers/volume17/15-215/15-...  \n",
       "2  https://www.sciencedirect.com/science/article/...  \n",
       "3      https://ieeexplore.ieee.org/document/8053516/  \n",
       "4  https://www.taylorfrancis.com/books/e/97814987...  \n",
       "5  http://www.aaai.org/ocs/index.php/IJCAI/IJCAI1...  \n",
       "6         https://dl.acm.org/citation.cfm?id=2662091  "
      ]
     },
     "execution_count": 21,
     "metadata": {},
     "output_type": "execute_result"
    }
   ],
   "source": [
    "publications = pd.read_csv(\"publications.tsv\", sep=\"\\t\", header=0)\n",
    "publications\n"
   ]
  },
  {
   "cell_type": "markdown",
   "metadata": {},
   "source": [
    "## Escape special characters\n",
    "\n",
    "YAML is very picky about how it takes a valid string, so we are replacing single and double quotes (and ampersands) with their HTML encoded equivilents. This makes them look not so readable in raw format, but they are parsed and rendered nicely."
   ]
  },
  {
   "cell_type": "code",
   "execution_count": 28,
   "metadata": {},
   "outputs": [],
   "source": [
    "html_escape_table = {\n",
    "    \"&\": \"&amp;\",\n",
    "    '\"': \"&quot;\",\n",
    "    \"'\": \"&apos;\"\n",
    "    }\n",
    "\n",
    "def html_escape(text):\n",
    "    \"\"\"Produce entities within text.\"\"\"\n",
    "    return \"\".join(html_escape_table.get(c,c) for c in text)"
   ]
  },
  {
   "cell_type": "markdown",
   "metadata": {},
   "source": [
    "## Creating the markdown files\n",
    "\n",
    "This is where the heavy lifting is done. This loops through all the rows in the TSV dataframe, then starts to concatentate a big string (```md```) that contains the markdown for each type. It does the YAML metadata first, then does the description for the individual page."
   ]
  },
  {
   "cell_type": "code",
   "execution_count": 31,
   "metadata": {},
   "outputs": [],
   "source": [
    "import os\n",
    "for row, item in publications.iterrows():\n",
    "    \n",
    "    md_filename = str(item.pub_date) + \"-\" + item.url_slug + \".md\"\n",
    "    html_filename = str(item.pub_date) + \"-\" + item.url_slug\n",
    "    year = item.pub_date[:4]\n",
    "    \n",
    "    ## YAML variables\n",
    "    \n",
    "    md = \"---\\ntitle: \\\"\"   + item.title + '\"\\n'\n",
    "    \n",
    "    md += \"\"\"collection: publications\"\"\"\n",
    "    \n",
    "    md += \"\"\"\\npermalink: /publication/\"\"\" + html_filename\n",
    "    \n",
    "    if len(str(item.excerpt)) > 5:\n",
    "        md += \"\\nexcerpt: '\" + html_escape(item.excerpt) + \"'\"\n",
    "    \n",
    "    md += \"\\ndate: \" + str(item.pub_date) \n",
    "    \n",
    "    md += \"\\nvenue: '\" + html_escape(item.venue) + \"'\"\n",
    "    \n",
    "    md += \"\\authors: '\" + html_escape(item.authors) + \"'\"\n",
    "    \n",
    "    if len(str(item.paper_url)) > 5:\n",
    "        md += \"\\npaperurl: '\" + item.paper_url + \"'\"\n",
    "    \n",
    "    md += \"\\n---\"\n",
    "    \n",
    "    ## Markdown description for individual page\n",
    "        \n",
    "    if len(str(item.excerpt)) > 5:\n",
    "        md += \"\\n\" + html_escape(item.excerpt) + \"\\n\"\n",
    "    \n",
    "#     if len(str(item.paper_url)) > 5:\n",
    "#         md += \"\\n[Download paper here](\" + item.paper_url + \")\\n\" \n",
    "        \n",
    "#     md += \"\\nRecommended citation: \" + item.citation\n",
    "    \n",
    "    md_filename = os.path.basename(md_filename)\n",
    "       \n",
    "    with open(\"../_publications/\" + md_filename, 'w') as f:\n",
    "        f.write(md)"
   ]
  },
  {
   "cell_type": "markdown",
   "metadata": {},
   "source": [
    "These files are in the publications directory, one directory below where we're working from."
   ]
  },
  {
   "cell_type": "code",
   "execution_count": 32,
   "metadata": {},
   "outputs": [
    {
     "name": "stdout",
     "output_type": "stream",
     "text": [
      "2014-11-3 -paper-cikm-2014 .md      2017-08-01 -paper-book-chapter  .md\r\n",
      "2015-06-27 - paper-ijcai-2015 .md   2017-09-01 -paper-asvspoof.md\r\n",
      "2016-01-01-paper-mssl-cop.md        2018-06-01-paper-group-lasso .md\r\n",
      "2017-01-01-paper-hmtl-aaai17.md\r\n"
     ]
    }
   ],
   "source": [
    "!ls ../_publications/"
   ]
  },
  {
   "cell_type": "code",
   "execution_count": 33,
   "metadata": {},
   "outputs": [
    {
     "name": "stdout",
     "output_type": "stream",
     "text": [
      "cat: ../_publications/2009-10-01-paper-title-number-1.md: No such file or directory\r\n"
     ]
    }
   ],
   "source": [
    "!cat ../_publications/2009-10-01-paper-title-number-1.md"
   ]
  },
  {
   "cell_type": "code",
   "execution_count": null,
   "metadata": {},
   "outputs": [],
   "source": []
  },
  {
   "cell_type": "code",
   "execution_count": null,
   "metadata": {},
   "outputs": [],
   "source": []
  },
  {
   "cell_type": "code",
   "execution_count": null,
   "metadata": {},
   "outputs": [],
   "source": []
  }
 ],
 "metadata": {
  "kernelspec": {
   "display_name": "Python 3",
   "language": "python",
   "name": "python3"
  },
  "language_info": {
   "codemirror_mode": {
    "name": "ipython",
    "version": 3
   },
   "file_extension": ".py",
   "mimetype": "text/x-python",
   "name": "python",
   "nbconvert_exporter": "python",
   "pygments_lexer": "ipython3",
   "version": "3.6.4"
  }
 },
 "nbformat": 4,
 "nbformat_minor": 1
}
