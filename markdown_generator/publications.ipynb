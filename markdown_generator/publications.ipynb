{
 "cells": [
  {
   "cell_type": "markdown",
   "metadata": {},
   "source": [
    "# Publications markdown generator for academicpages\n",
    "\n",
    "Takes a TSV of publications with metadata and converts them for use with [academicpages.github.io](academicpages.github.io). This is an interactive Jupyter notebook ([see more info here](http://jupyter-notebook-beginner-guide.readthedocs.io/en/latest/what_is_jupyter.html)). The core python code is also in `publications.py`. Run either from the `markdown_generator` folder after replacing `publications.tsv` with one containing your data.\n",
    "\n",
    "TODO: Make this work with BibTex and other databases of citations, rather than Stuart's non-standard TSV format and citation style.\n"
   ]
  },
  {
   "cell_type": "markdown",
   "metadata": {},
   "source": [
    "## Data format\n",
    "\n",
    "The TSV needs to have the following columns: pub_date, title, venue, excerpt, citation, site_url, and paper_url, with a header at the top. \n",
    "\n",
    "- `excerpt` and `paper_url` can be blank, but the others must have values. \n",
    "- `pub_date` must be formatted as YYYY-MM-DD.\n",
    "- `url_slug` will be the descriptive part of the .md file and the permalink URL for the page about the paper. The .md file will be `YYYY-MM-DD-[url_slug].md` and the permalink will be `https://[yourdomain]/publications/YYYY-MM-DD-[url_slug]`\n",
    "\n",
    "This is how the raw file looks (it doesn't look pretty, use a spreadsheet or other program to edit and create)."
   ]
  },
  {
   "cell_type": "code",
   "execution_count": 66,
   "metadata": {},
   "outputs": [
    {
     "name": "stdout",
     "output_type": "stream",
     "text": [
      "pub_date\ttitle\tvenue\texcerpt\tauthors\turl_slug\tpaper_url\r\n",
      "2017-01-01\tSpatial Projection of Multiple Climate Variables Using Hierarchical Multitask Learning\tAAAI'17\tThis paper proposes a new Hierarchical Multitask Learning framework for the joint prediction of multiple climate variables. Each task in this multitask learning set up is actually another multitask learning problem.\tAR Goncalves, A Banerjee, FJ Von Zuben\tpaper-hmtl-aaai17\thttp://www.aaai.org/ocs/index.php/AAAI/AAAI17/paper/download/15018/14060\r\n",
      "2016-01-01\tMulti-task sparse structure learning with gaussian copula models\tJMLR\tThis paper presents a novel family of models for MTL, applicable to regression and classification problems, capable of learning the structure of tasks relationship via Copula distributions.\tAR Goncalves, FJ Von Zuben\tpaper-mssl-cop\thttp://www.jmlr.org/papers/volume17/15-215/15-215.pdf\r\n",
      "2018-06-01\tModeling Alzheimer's disease cognitive scores using multi-task sparse group lasso\tComputerized Medical Imaging and Graphics (Journal)\tWe consider the problem of simultaneously predicting several different cognitive scores associated with categorizing subjects as normal, mild cognitive impairment (MCI), or Alzheimer's disease (AD) in a multi-task learning framework using features extracted from brain images obtained from ADNI (Alzheimer's Disease Neuroimaging Initiative)\tX Liu, AR Goncalves, P Cao, D Zhao, A Banerjee\tpaper-group-lasso\thttps://www.sciencedirect.com/science/article/pii/S0895611117301076\r\n",
      "2017-09-01\t On the generalization of fused systems in voice presentation attack detection\t16th International Conference of the Biometrics Special Interest Group\tThis paper describes presentation attack detection systems developed for the Automatic Speaker Verification Spoofing and Countermeasures Challenge (ASVspoof 2017). The submitted systems, using calibration and score fusion techniques, combine different sub-systems (up to 18), which are based on eight state of the art features and rely on Gaussian mixture models and feed-forward neural network classifiers.\tAR Goncalves, P Korshunov, RPV Violato, FO Simoes, S Marcel\tpaper-asvspoof\thttps://ieeexplore.ieee.org/document/8053516/\r\n",
      "2017-08-01\t Structured Estimation in High Dimensions and Multitask Learning with Applications in Climate\tLarge-Scale Machine Learning in the Earth Sciences (Book Chapter)\t We discuss structured sparse regression and multitask models for data analysis in climate science.\tS Chatterjee, V Sivakumar, AR Goncalves, A Banerjee \tpaper-book-chapter\thttps://www.taylorfrancis.com/books/e/9781498703888\r\n",
      "2015-06-27\tMulti-Label Structure Learning with Ising Model Selection.\t IJCAI'15\t Built on recent advances in structure learning in Ising Markov Random Fields (I-MRF), we propose a multi-label classification algorithm that explicitly estimate and incorporate label dependence into the classifiers learning process by means of a sparse convex multitask learning formulation.\tAR Goncalves, FJ Von Zuben, A Banerjee\t paper-ijcai-2015\thttp://www.aaai.org/ocs/index.php/IJCAI/IJCAI15/paper/download/11216/11231\r\n",
      "2014-11-3\tMulti-task Sparse Structure Learning\tCIKM'14\tIn this paper, we present a novel family of models for MTL, applicable to regression and classification problems, capable of learning the structure of task relationships. In particular, we consider a joint estimation problem of the task relationship structure and the individual task parameters, which is solved using alternating minimization. The task relationship structure learning component builds on recent advances in structure learning of Gaussian graphical models based on sparse estimators of the precision (inverse covariance) matrix. \tAR Goncalves, P Das, S Chatterjee, V Sivakumar, FJ Von Zuben, A Banerjee\tpaper-cikm-2014\thttps://dl.acm.org/citation.cfm?id=2662091\r\n"
     ]
    }
   ],
   "source": [
    "!cat publications.tsv"
   ]
  },
  {
   "cell_type": "markdown",
   "metadata": {},
   "source": [
    "## Import pandas\n",
    "\n",
    "We are using the very handy pandas library for dataframes."
   ]
  },
  {
   "cell_type": "code",
   "execution_count": 67,
   "metadata": {},
   "outputs": [],
   "source": [
    "import pandas as pd"
   ]
  },
  {
   "cell_type": "markdown",
   "metadata": {},
   "source": [
    "## Import TSV\n",
    "\n",
    "Pandas makes this easy with the read_csv function. We are using a TSV, so we specify the separator as a tab, or `\\t`.\n",
    "\n",
    "I found it important to put this data in a tab-separated values format, because there are a lot of commas in this kind of data and comma-separated values can get messed up. However, you can modify the import statement, as pandas also has read_excel(), read_json(), and others."
   ]
  },
  {
   "cell_type": "code",
   "execution_count": 68,
   "metadata": {},
   "outputs": [
    {
     "data": {
      "text/html": [
       "<div>\n",
       "<style scoped>\n",
       "    .dataframe tbody tr th:only-of-type {\n",
       "        vertical-align: middle;\n",
       "    }\n",
       "\n",
       "    .dataframe tbody tr th {\n",
       "        vertical-align: top;\n",
       "    }\n",
       "\n",
       "    .dataframe thead th {\n",
       "        text-align: right;\n",
       "    }\n",
       "</style>\n",
       "<table border=\"1\" class=\"dataframe\">\n",
       "  <thead>\n",
       "    <tr style=\"text-align: right;\">\n",
       "      <th></th>\n",
       "      <th>pub_date</th>\n",
       "      <th>title</th>\n",
       "      <th>venue</th>\n",
       "      <th>excerpt</th>\n",
       "      <th>authors</th>\n",
       "      <th>url_slug</th>\n",
       "      <th>paper_url</th>\n",
       "    </tr>\n",
       "  </thead>\n",
       "  <tbody>\n",
       "    <tr>\n",
       "      <th>0</th>\n",
       "      <td>2017-01-01</td>\n",
       "      <td>Spatial Projection of Multiple Climate Variabl...</td>\n",
       "      <td>AAAI'17</td>\n",
       "      <td>This paper proposes a new Hierarchical Multita...</td>\n",
       "      <td>AR Goncalves, A Banerjee, FJ Von Zuben</td>\n",
       "      <td>paper-hmtl-aaai17</td>\n",
       "      <td>http://www.aaai.org/ocs/index.php/AAAI/AAAI17/...</td>\n",
       "    </tr>\n",
       "    <tr>\n",
       "      <th>1</th>\n",
       "      <td>2016-01-01</td>\n",
       "      <td>Multi-task sparse structure learning with gaus...</td>\n",
       "      <td>JMLR</td>\n",
       "      <td>This paper presents a novel family of models f...</td>\n",
       "      <td>AR Goncalves, FJ Von Zuben</td>\n",
       "      <td>paper-mssl-cop</td>\n",
       "      <td>http://www.jmlr.org/papers/volume17/15-215/15-...</td>\n",
       "    </tr>\n",
       "    <tr>\n",
       "      <th>2</th>\n",
       "      <td>2018-06-01</td>\n",
       "      <td>Modeling Alzheimer's disease cognitive scores ...</td>\n",
       "      <td>Computerized Medical Imaging and Graphics (Jou...</td>\n",
       "      <td>We consider the problem of simultaneously pred...</td>\n",
       "      <td>X Liu, AR Goncalves, P Cao, D Zhao, A Banerjee</td>\n",
       "      <td>paper-group-lasso</td>\n",
       "      <td>https://www.sciencedirect.com/science/article/...</td>\n",
       "    </tr>\n",
       "    <tr>\n",
       "      <th>3</th>\n",
       "      <td>2017-09-01</td>\n",
       "      <td>On the generalization of fused systems in voi...</td>\n",
       "      <td>16th International Conference of the Biometric...</td>\n",
       "      <td>This paper describes presentation attack detec...</td>\n",
       "      <td>AR Goncalves, P Korshunov, RPV Violato, FO Sim...</td>\n",
       "      <td>paper-asvspoof</td>\n",
       "      <td>https://ieeexplore.ieee.org/document/8053516/</td>\n",
       "    </tr>\n",
       "    <tr>\n",
       "      <th>4</th>\n",
       "      <td>2017-08-01</td>\n",
       "      <td>Structured Estimation in High Dimensions and ...</td>\n",
       "      <td>Large-Scale Machine Learning in the Earth Scie...</td>\n",
       "      <td>We discuss structured sparse regression and m...</td>\n",
       "      <td>S Chatterjee, V Sivakumar, AR Goncalves, A Ban...</td>\n",
       "      <td>paper-book-chapter</td>\n",
       "      <td>https://www.taylorfrancis.com/books/e/97814987...</td>\n",
       "    </tr>\n",
       "    <tr>\n",
       "      <th>5</th>\n",
       "      <td>2015-06-27</td>\n",
       "      <td>Multi-Label Structure Learning with Ising Mode...</td>\n",
       "      <td>IJCAI'15</td>\n",
       "      <td>Built on recent advances in structure learnin...</td>\n",
       "      <td>AR Goncalves, FJ Von Zuben, A Banerjee</td>\n",
       "      <td>paper-ijcai-2015</td>\n",
       "      <td>http://www.aaai.org/ocs/index.php/IJCAI/IJCAI1...</td>\n",
       "    </tr>\n",
       "    <tr>\n",
       "      <th>6</th>\n",
       "      <td>2014-11-3</td>\n",
       "      <td>Multi-task Sparse Structure Learning</td>\n",
       "      <td>CIKM'14</td>\n",
       "      <td>In this paper, we present a novel family of mo...</td>\n",
       "      <td>AR Goncalves, P Das, S Chatterjee, V Sivakumar...</td>\n",
       "      <td>paper-cikm-2014</td>\n",
       "      <td>https://dl.acm.org/citation.cfm?id=2662091</td>\n",
       "    </tr>\n",
       "  </tbody>\n",
       "</table>\n",
       "</div>"
      ],
      "text/plain": [
       "     pub_date                                              title  \\\n",
       "0  2017-01-01  Spatial Projection of Multiple Climate Variabl...   \n",
       "1  2016-01-01  Multi-task sparse structure learning with gaus...   \n",
       "2  2018-06-01  Modeling Alzheimer's disease cognitive scores ...   \n",
       "3  2017-09-01   On the generalization of fused systems in voi...   \n",
       "4  2017-08-01   Structured Estimation in High Dimensions and ...   \n",
       "5  2015-06-27  Multi-Label Structure Learning with Ising Mode...   \n",
       "6   2014-11-3               Multi-task Sparse Structure Learning   \n",
       "\n",
       "                                               venue  \\\n",
       "0                                            AAAI'17   \n",
       "1                                               JMLR   \n",
       "2  Computerized Medical Imaging and Graphics (Jou...   \n",
       "3  16th International Conference of the Biometric...   \n",
       "4  Large-Scale Machine Learning in the Earth Scie...   \n",
       "5                                           IJCAI'15   \n",
       "6                                            CIKM'14   \n",
       "\n",
       "                                             excerpt  \\\n",
       "0  This paper proposes a new Hierarchical Multita...   \n",
       "1  This paper presents a novel family of models f...   \n",
       "2  We consider the problem of simultaneously pred...   \n",
       "3  This paper describes presentation attack detec...   \n",
       "4   We discuss structured sparse regression and m...   \n",
       "5   Built on recent advances in structure learnin...   \n",
       "6  In this paper, we present a novel family of mo...   \n",
       "\n",
       "                                             authors            url_slug  \\\n",
       "0             AR Goncalves, A Banerjee, FJ Von Zuben   paper-hmtl-aaai17   \n",
       "1                         AR Goncalves, FJ Von Zuben      paper-mssl-cop   \n",
       "2     X Liu, AR Goncalves, P Cao, D Zhao, A Banerjee   paper-group-lasso   \n",
       "3  AR Goncalves, P Korshunov, RPV Violato, FO Sim...      paper-asvspoof   \n",
       "4  S Chatterjee, V Sivakumar, AR Goncalves, A Ban...  paper-book-chapter   \n",
       "5             AR Goncalves, FJ Von Zuben, A Banerjee    paper-ijcai-2015   \n",
       "6  AR Goncalves, P Das, S Chatterjee, V Sivakumar...     paper-cikm-2014   \n",
       "\n",
       "                                           paper_url  \n",
       "0  http://www.aaai.org/ocs/index.php/AAAI/AAAI17/...  \n",
       "1  http://www.jmlr.org/papers/volume17/15-215/15-...  \n",
       "2  https://www.sciencedirect.com/science/article/...  \n",
       "3      https://ieeexplore.ieee.org/document/8053516/  \n",
       "4  https://www.taylorfrancis.com/books/e/97814987...  \n",
       "5  http://www.aaai.org/ocs/index.php/IJCAI/IJCAI1...  \n",
       "6         https://dl.acm.org/citation.cfm?id=2662091  "
      ]
     },
     "execution_count": 68,
     "metadata": {},
     "output_type": "execute_result"
    }
   ],
   "source": [
    "publications = pd.read_csv(\"publications.tsv\", sep=\"\\t\", header=0)\n",
    "publications\n"
   ]
  },
  {
   "cell_type": "markdown",
   "metadata": {},
   "source": [
    "## Escape special characters\n",
    "\n",
    "YAML is very picky about how it takes a valid string, so we are replacing single and double quotes (and ampersands) with their HTML encoded equivilents. This makes them look not so readable in raw format, but they are parsed and rendered nicely."
   ]
  },
  {
   "cell_type": "code",
   "execution_count": 69,
   "metadata": {},
   "outputs": [],
   "source": [
    "html_escape_table = {\n",
    "    \"&\": \"&amp;\",\n",
    "    '\"': \"&quot;\",\n",
    "    \"'\": \"&apos;\"\n",
    "    }\n",
    "\n",
    "def html_escape(text):\n",
    "    \"\"\"Produce entities within text.\"\"\"\n",
    "    return \"\".join(html_escape_table.get(c,c) for c in text)"
   ]
  },
  {
   "cell_type": "markdown",
   "metadata": {},
   "source": [
    "## Creating the markdown files\n",
    "\n",
    "This is where the heavy lifting is done. This loops through all the rows in the TSV dataframe, then starts to concatentate a big string (```md```) that contains the markdown for each type. It does the YAML metadata first, then does the description for the individual page."
   ]
  },
  {
   "cell_type": "code",
   "execution_count": 82,
   "metadata": {},
   "outputs": [
    {
     "name": "stdout",
     "output_type": "stream",
     "text": [
      "---\n",
      "title: \"Spatial Projection of Multiple Climate Variables Using Hierarchical Multitask Learning\"\n",
      "collection: publications\n",
      "permalink: /publication/2017-01-01-paper-hmtl-aaai17\n",
      "excerpt: 'This paper proposes a new Hierarchical Multitask Learning framework for the joint prediction of multiple climate variables. Each task in this multitask learning set up is actually another multitask learning problem.'\n",
      "date: 2017-01-01\n",
      "venue: 'AAAI&apos;17'\n",
      "authors: 'AR Goncalves, A Banerjee, FJ Von Zuben'\n",
      "paperurl: 'http://www.aaai.org/ocs/index.php/AAAI/AAAI17/paper/download/15018/14060'\n",
      "---\n",
      "Authors: AR Goncalves, A Banerjee, FJ Von Zuben\n",
      "\n",
      "This paper proposes a new Hierarchical Multitask Learning framework for the joint prediction of multiple climate variables. Each task in this multitask learning set up is actually another multitask learning problem.\n",
      "\n",
      "[Access full paper here](http://www.aaai.org/ocs/index.php/AAAI/AAAI17/paper/download/15018/14060)\n",
      "\n",
      "---\n",
      "title: \"Multi-task sparse structure learning with gaussian copula models\"\n",
      "collection: publications\n",
      "permalink: /publication/2016-01-01-paper-mssl-cop\n",
      "excerpt: 'This paper presents a novel family of models for MTL, applicable to regression and classification problems, capable of learning the structure of tasks relationship via Copula distributions.'\n",
      "date: 2016-01-01\n",
      "venue: 'JMLR'\n",
      "authors: 'AR Goncalves, FJ Von Zuben'\n",
      "paperurl: 'http://www.jmlr.org/papers/volume17/15-215/15-215.pdf'\n",
      "---\n",
      "Authors: AR Goncalves, FJ Von Zuben\n",
      "\n",
      "This paper presents a novel family of models for MTL, applicable to regression and classification problems, capable of learning the structure of tasks relationship via Copula distributions.\n",
      "\n",
      "[Access full paper here](http://www.jmlr.org/papers/volume17/15-215/15-215.pdf)\n",
      "\n",
      "---\n",
      "title: \"Modeling Alzheimer's disease cognitive scores using multi-task sparse group lasso\"\n",
      "collection: publications\n",
      "permalink: /publication/2018-06-01-paper-group-lasso\n",
      "excerpt: 'We consider the problem of simultaneously predicting several different cognitive scores associated with categorizing subjects as normal, mild cognitive impairment (MCI), or Alzheimer&apos;s disease (AD) in a multi-task learning framework using features extracted from brain images obtained from ADNI (Alzheimer&apos;s Disease Neuroimaging Initiative)'\n",
      "date: 2018-06-01\n",
      "venue: 'Computerized Medical Imaging and Graphics (Journal)'\n",
      "authors: 'X Liu, AR Goncalves, P Cao, D Zhao, A Banerjee'\n",
      "paperurl: 'https://www.sciencedirect.com/science/article/pii/S0895611117301076'\n",
      "---\n",
      "Authors: X Liu, AR Goncalves, P Cao, D Zhao, A Banerjee\n",
      "\n",
      "We consider the problem of simultaneously predicting several different cognitive scores associated with categorizing subjects as normal, mild cognitive impairment (MCI), or Alzheimer&apos;s disease (AD) in a multi-task learning framework using features extracted from brain images obtained from ADNI (Alzheimer&apos;s Disease Neuroimaging Initiative)\n",
      "\n",
      "[Access full paper here](https://www.sciencedirect.com/science/article/pii/S0895611117301076)\n",
      "\n",
      "---\n",
      "title: \" On the generalization of fused systems in voice presentation attack detection\"\n",
      "collection: publications\n",
      "permalink: /publication/2017-09-01-paper-asvspoof\n",
      "excerpt: 'This paper describes presentation attack detection systems developed for the Automatic Speaker Verification Spoofing and Countermeasures Challenge (ASVspoof 2017). The submitted systems, using calibration and score fusion techniques, combine different sub-systems (up to 18), which are based on eight state of the art features and rely on Gaussian mixture models and feed-forward neural network classifiers.'\n",
      "date: 2017-09-01\n",
      "venue: '16th International Conference of the Biometrics Special Interest Group'\n",
      "authors: 'AR Goncalves, P Korshunov, RPV Violato, FO Simoes, S Marcel'\n",
      "paperurl: 'https://ieeexplore.ieee.org/document/8053516/'\n",
      "---\n",
      "Authors: AR Goncalves, P Korshunov, RPV Violato, FO Simoes, S Marcel\n",
      "\n",
      "This paper describes presentation attack detection systems developed for the Automatic Speaker Verification Spoofing and Countermeasures Challenge (ASVspoof 2017). The submitted systems, using calibration and score fusion techniques, combine different sub-systems (up to 18), which are based on eight state of the art features and rely on Gaussian mixture models and feed-forward neural network classifiers.\n",
      "\n",
      "[Access full paper here](https://ieeexplore.ieee.org/document/8053516/)\n",
      "\n",
      "---\n",
      "title: \" Structured Estimation in High Dimensions and Multitask Learning with Applications in Climate\"\n",
      "collection: publications\n",
      "permalink: /publication/2017-08-01-paper-book-chapter\n",
      "excerpt: ' We discuss structured sparse regression and multitask models for data analysis in climate science.'\n",
      "date: 2017-08-01\n",
      "venue: 'Large-Scale Machine Learning in the Earth Sciences (Book Chapter)'\n",
      "authors: 'S Chatterjee, V Sivakumar, AR Goncalves, A Banerjee '\n",
      "paperurl: 'https://www.taylorfrancis.com/books/e/9781498703888'\n",
      "---\n",
      "Authors: S Chatterjee, V Sivakumar, AR Goncalves, A Banerjee \n",
      "\n",
      " We discuss structured sparse regression and multitask models for data analysis in climate science.\n",
      "\n",
      "[Access full paper here](https://www.taylorfrancis.com/books/e/9781498703888)\n",
      "\n",
      "---\n",
      "title: \"Multi-Label Structure Learning with Ising Model Selection.\"\n",
      "collection: publications\n",
      "permalink: /publication/2015-06-27- paper-ijcai-2015\n",
      "excerpt: ' Built on recent advances in structure learning in Ising Markov Random Fields (I-MRF), we propose a multi-label classification algorithm that explicitly estimate and incorporate label dependence into the classifiers learning process by means of a sparse convex multitask learning formulation.'\n",
      "date: 2015-06-27\n",
      "venue: ' IJCAI&apos;15'\n",
      "authors: 'AR Goncalves, FJ Von Zuben, A Banerjee'\n",
      "paperurl: 'http://www.aaai.org/ocs/index.php/IJCAI/IJCAI15/paper/download/11216/11231'\n",
      "---\n",
      "Authors: AR Goncalves, FJ Von Zuben, A Banerjee\n",
      "\n",
      " Built on recent advances in structure learning in Ising Markov Random Fields (I-MRF), we propose a multi-label classification algorithm that explicitly estimate and incorporate label dependence into the classifiers learning process by means of a sparse convex multitask learning formulation.\n",
      "\n",
      "[Access full paper here](http://www.aaai.org/ocs/index.php/IJCAI/IJCAI15/paper/download/11216/11231)\n",
      "\n",
      "---\n",
      "title: \"Multi-task Sparse Structure Learning\"\n",
      "collection: publications\n",
      "permalink: /publication/2014-11-3-paper-cikm-2014\n",
      "excerpt: 'In this paper, we present a novel family of models for MTL, applicable to regression and classification problems, capable of learning the structure of task relationships. In particular, we consider a joint estimation problem of the task relationship structure and the individual task parameters, which is solved using alternating minimization. The task relationship structure learning component builds on recent advances in structure learning of Gaussian graphical models based on sparse estimators of the precision (inverse covariance) matrix. '\n",
      "date: 2014-11-3\n",
      "venue: 'CIKM&apos;14'\n",
      "authors: 'AR Goncalves, P Das, S Chatterjee, V Sivakumar, FJ Von Zuben, A Banerjee'\n",
      "paperurl: 'https://dl.acm.org/citation.cfm?id=2662091'\n",
      "---\n",
      "Authors: AR Goncalves, P Das, S Chatterjee, V Sivakumar, FJ Von Zuben, A Banerjee\n",
      "\n",
      "In this paper, we present a novel family of models for MTL, applicable to regression and classification problems, capable of learning the structure of task relationships. In particular, we consider a joint estimation problem of the task relationship structure and the individual task parameters, which is solved using alternating minimization. The task relationship structure learning component builds on recent advances in structure learning of Gaussian graphical models based on sparse estimators of the precision (inverse covariance) matrix. \n",
      "\n",
      "[Access full paper here](https://dl.acm.org/citation.cfm?id=2662091)\n",
      "\n"
     ]
    }
   ],
   "source": [
    "import os\n",
    "for row, item in publications.iterrows():\n",
    "    \n",
    "    md_filename = str(item.pub_date) + \"-\" + item.url_slug + \".md\"\n",
    "    html_filename = str(item.pub_date) + \"-\" + item.url_slug\n",
    "    year = item.pub_date[:4]\n",
    "    \n",
    "    ## YAML variables\n",
    "    \n",
    "    md = \"---\\ntitle: \\\"\"   + item.title + '\"\\n'\n",
    "    \n",
    "    md += \"\"\"collection: publications\"\"\"\n",
    "    \n",
    "    md += \"\"\"\\npermalink: /publication/\"\"\" + html_filename\n",
    "    \n",
    "    if len(str(item.excerpt)) > 5:\n",
    "        md += \"\\nexcerpt: '\" + html_escape(item.excerpt) + \"'\"\n",
    "    \n",
    "    md += \"\\ndate: \" + str(item.pub_date) \n",
    "    \n",
    "    md += \"\\nvenue: '\" + html_escape(item.venue) + \"'\"\n",
    "    \n",
    "    md += \"\\nauthors: '\" + html_escape(item.authors) + \"'\"\n",
    "    \n",
    "    if len(str(item.paper_url)) > 5:\n",
    "        md += \"\\npaperurl: '\" + item.paper_url + \"'\"\n",
    "    \n",
    "    md += \"\\n---\"\n",
    "    \n",
    "    ## Markdown description for individual page\n",
    "\n",
    "    md += \"\\nAuthors: \" + html_escape(item.authors) + \"\\n\"\n",
    "\n",
    "    if len(str(item.excerpt)) > 5:\n",
    "        md += \"\\n\" + html_escape(item.excerpt) + \"\\n\"\n",
    "\n",
    "    if len(str(item.paper_url)) > 5:\n",
    "        md += \"\\n[Access full paper here](\" + item.paper_url + \")\\n\" \n",
    "        \n",
    "#     md += \"\\nRecommended citation: \" + item.citation\n",
    "    print(md)\n",
    "    md_filename = os.path.basename(md_filename)\n",
    "       \n",
    "    with open(\"../_publications/\" + md_filename, 'w') as f:\n",
    "        f.write(md)"
   ]
  },
  {
   "cell_type": "markdown",
   "metadata": {},
   "source": [
    "These files are in the publications directory, one directory below where we're working from."
   ]
  },
  {
   "cell_type": "code",
   "execution_count": 75,
   "metadata": {},
   "outputs": [
    {
     "name": "stdout",
     "output_type": "stream",
     "text": [
      "2014-11-3-paper-cikm-2014.md     2017-08-01-paper-book-chapter.md\r\n",
      "2015-06-27- paper-ijcai-2015.md  2017-09-01-paper-asvspoof.md\r\n",
      "2016-01-01-paper-mssl-cop.md     2018-06-01-paper-group-lasso.md\r\n",
      "2017-01-01-paper-hmtl-aaai17.md\r\n"
     ]
    }
   ],
   "source": [
    "!ls ../_publications/"
   ]
  },
  {
   "cell_type": "code",
   "execution_count": 72,
   "metadata": {},
   "outputs": [
    {
     "name": "stdout",
     "output_type": "stream",
     "text": [
      "cat: ../_publications/2009-10-01-paper-title-number-1.md: No such file or directory\r\n"
     ]
    }
   ],
   "source": [
    "!cat ../_publications/2009-10-01-paper-title-number-1.md"
   ]
  },
  {
   "cell_type": "code",
   "execution_count": null,
   "metadata": {},
   "outputs": [],
   "source": []
  },
  {
   "cell_type": "code",
   "execution_count": null,
   "metadata": {},
   "outputs": [],
   "source": []
  },
  {
   "cell_type": "code",
   "execution_count": null,
   "metadata": {},
   "outputs": [],
   "source": []
  }
 ],
 "metadata": {
  "kernelspec": {
   "display_name": "Python 3",
   "language": "python",
   "name": "python3"
  },
  "language_info": {
   "codemirror_mode": {
    "name": "ipython",
    "version": 3
   },
   "file_extension": ".py",
   "mimetype": "text/x-python",
   "name": "python",
   "nbconvert_exporter": "python",
   "pygments_lexer": "ipython3",
   "version": "3.6.4"
  }
 },
 "nbformat": 4,
 "nbformat_minor": 1
}
